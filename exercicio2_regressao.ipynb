{
  "nbformat": 4,
  "nbformat_minor": 0,
  "metadata": {
    "colab": {
      "provenance": []
    },
    "kernelspec": {
      "name": "python3",
      "display_name": "Python 3"
    },
    "language_info": {
      "name": "python"
    }
  },
  "cells": [
    {
      "cell_type": "markdown",
      "source": [
        "# 🏠 Exercício 2 — Regressão (California Housing)"
      ],
      "metadata": {
        "id": "yUs202LcoBDQ"
      }
    },
    {
      "cell_type": "code",
      "execution_count": 1,
      "metadata": {
        "id": "vdswS5Cbn4-K"
      },
      "outputs": [],
      "source": [
        "import numpy as np\n",
        "import matplotlib.pyplot as plt\n",
        "from sklearn.datasets import fetch_california_housing\n",
        "from sklearn.model_selection import train_test_split\n",
        "from sklearn.preprocessing import StandardScaler\n",
        "from tensorflow.keras.models import Sequential\n",
        "from tensorflow.keras.layers import Dense\n",
        "from sklearn.ensemble import RandomForestRegressor\n",
        "from sklearn.metrics import mean_absolute_error, mean_squared_error"
      ]
    },
    {
      "cell_type": "markdown",
      "source": [
        "# 🔹 1. Carregar e preparar os dados"
      ],
      "metadata": {
        "id": "XlmrqCl2oEco"
      }
    },
    {
      "cell_type": "code",
      "source": [
        "data = fetch_california_housing()\n",
        "X = data.data\n",
        "y = data.target\n",
        "\n",
        "scaler = StandardScaler()\n",
        "X = scaler.fit_transform(X)\n",
        "\n",
        "X_train, X_test, y_train, y_test = train_test_split(X, y, test_size=0.2, random_state=42)\n"
      ],
      "metadata": {
        "id": "8UFUu8bloGIQ"
      },
      "execution_count": 2,
      "outputs": []
    },
    {
      "cell_type": "markdown",
      "source": [
        "# 🔹 2. Criar e treinar a rede neural (Keras)"
      ],
      "metadata": {
        "id": "hqv0oEsQoJFI"
      }
    },
    {
      "cell_type": "code",
      "source": [
        "model = Sequential([\n",
        "    Dense(64, activation='relu', input_shape=(X.shape[1],)),\n",
        "    Dense(32, activation='relu'),\n",
        "    Dense(16, activation='relu'),\n",
        "    Dense(1, activation='linear')\n",
        "])\n",
        "\n",
        "model.compile(optimizer='adam', loss='mse', metrics=['mae'])\n",
        "\n",
        "history = model.fit(X_train, y_train, epochs=50, batch_size=16, validation_split=0.2, verbose=1)"
      ],
      "metadata": {
        "colab": {
          "base_uri": "https://localhost:8080/"
        },
        "id": "Q_kAi72loKvQ",
        "outputId": "44dd41c9-fc5a-4491-d7d8-ef1ee47befab"
      },
      "execution_count": 3,
      "outputs": [
        {
          "output_type": "stream",
          "name": "stdout",
          "text": [
            "Epoch 1/50\n"
          ]
        },
        {
          "output_type": "stream",
          "name": "stderr",
          "text": [
            "/usr/local/lib/python3.12/dist-packages/keras/src/layers/core/dense.py:93: UserWarning: Do not pass an `input_shape`/`input_dim` argument to a layer. When using Sequential models, prefer using an `Input(shape)` object as the first layer in the model instead.\n",
            "  super().__init__(activity_regularizer=activity_regularizer, **kwargs)\n"
          ]
        },
        {
          "output_type": "stream",
          "name": "stdout",
          "text": [
            "\u001b[1m826/826\u001b[0m \u001b[32m━━━━━━━━━━━━━━━━━━━━\u001b[0m\u001b[37m\u001b[0m \u001b[1m3s\u001b[0m 2ms/step - loss: 2.1552 - mae: 0.8823 - val_loss: 0.4199 - val_mae: 0.4533\n",
            "Epoch 2/50\n",
            "\u001b[1m826/826\u001b[0m \u001b[32m━━━━━━━━━━━━━━━━━━━━\u001b[0m\u001b[37m\u001b[0m \u001b[1m2s\u001b[0m 2ms/step - loss: 0.3972 - mae: 0.4444 - val_loss: 0.3866 - val_mae: 0.4290\n",
            "Epoch 3/50\n",
            "\u001b[1m826/826\u001b[0m \u001b[32m━━━━━━━━━━━━━━━━━━━━\u001b[0m\u001b[37m\u001b[0m \u001b[1m2s\u001b[0m 2ms/step - loss: 0.3595 - mae: 0.4207 - val_loss: 0.3690 - val_mae: 0.4289\n",
            "Epoch 4/50\n",
            "\u001b[1m826/826\u001b[0m \u001b[32m━━━━━━━━━━━━━━━━━━━━\u001b[0m\u001b[37m\u001b[0m \u001b[1m3s\u001b[0m 3ms/step - loss: 0.3332 - mae: 0.4053 - val_loss: 0.3423 - val_mae: 0.4077\n",
            "Epoch 5/50\n",
            "\u001b[1m826/826\u001b[0m \u001b[32m━━━━━━━━━━━━━━━━━━━━\u001b[0m\u001b[37m\u001b[0m \u001b[1m2s\u001b[0m 2ms/step - loss: 0.3209 - mae: 0.4005 - val_loss: 0.3312 - val_mae: 0.3934\n",
            "Epoch 6/50\n",
            "\u001b[1m826/826\u001b[0m \u001b[32m━━━━━━━━━━━━━━━━━━━━\u001b[0m\u001b[37m\u001b[0m \u001b[1m2s\u001b[0m 2ms/step - loss: 0.3105 - mae: 0.3899 - val_loss: 0.3312 - val_mae: 0.3978\n",
            "Epoch 7/50\n",
            "\u001b[1m826/826\u001b[0m \u001b[32m━━━━━━━━━━━━━━━━━━━━\u001b[0m\u001b[37m\u001b[0m \u001b[1m2s\u001b[0m 2ms/step - loss: 0.3077 - mae: 0.3839 - val_loss: 0.3263 - val_mae: 0.3902\n",
            "Epoch 8/50\n",
            "\u001b[1m826/826\u001b[0m \u001b[32m━━━━━━━━━━━━━━━━━━━━\u001b[0m\u001b[37m\u001b[0m \u001b[1m2s\u001b[0m 3ms/step - loss: 0.3168 - mae: 0.3907 - val_loss: 0.3189 - val_mae: 0.3819\n",
            "Epoch 9/50\n",
            "\u001b[1m826/826\u001b[0m \u001b[32m━━━━━━━━━━━━━━━━━━━━\u001b[0m\u001b[37m\u001b[0m \u001b[1m2s\u001b[0m 3ms/step - loss: 0.2928 - mae: 0.3752 - val_loss: 0.3196 - val_mae: 0.3970\n",
            "Epoch 10/50\n",
            "\u001b[1m826/826\u001b[0m \u001b[32m━━━━━━━━━━━━━━━━━━━━\u001b[0m\u001b[37m\u001b[0m \u001b[1m3s\u001b[0m 3ms/step - loss: 0.2913 - mae: 0.3745 - val_loss: 0.3194 - val_mae: 0.3819\n",
            "Epoch 11/50\n",
            "\u001b[1m826/826\u001b[0m \u001b[32m━━━━━━━━━━━━━━━━━━━━\u001b[0m\u001b[37m\u001b[0m \u001b[1m4s\u001b[0m 2ms/step - loss: 0.2763 - mae: 0.3642 - val_loss: 0.3220 - val_mae: 0.4020\n",
            "Epoch 12/50\n",
            "\u001b[1m826/826\u001b[0m \u001b[32m━━━━━━━━━━━━━━━━━━━━\u001b[0m\u001b[37m\u001b[0m \u001b[1m2s\u001b[0m 2ms/step - loss: 0.2834 - mae: 0.3679 - val_loss: 0.3138 - val_mae: 0.3798\n",
            "Epoch 13/50\n",
            "\u001b[1m826/826\u001b[0m \u001b[32m━━━━━━━━━━━━━━━━━━━━\u001b[0m\u001b[37m\u001b[0m \u001b[1m2s\u001b[0m 2ms/step - loss: 0.2779 - mae: 0.3607 - val_loss: 0.3060 - val_mae: 0.3787\n",
            "Epoch 14/50\n",
            "\u001b[1m826/826\u001b[0m \u001b[32m━━━━━━━━━━━━━━━━━━━━\u001b[0m\u001b[37m\u001b[0m \u001b[1m3s\u001b[0m 3ms/step - loss: 0.2796 - mae: 0.3619 - val_loss: 0.3172 - val_mae: 0.3899\n",
            "Epoch 15/50\n",
            "\u001b[1m826/826\u001b[0m \u001b[32m━━━━━━━━━━━━━━━━━━━━\u001b[0m\u001b[37m\u001b[0m \u001b[1m2s\u001b[0m 3ms/step - loss: 0.2700 - mae: 0.3588 - val_loss: 0.3107 - val_mae: 0.3757\n",
            "Epoch 16/50\n",
            "\u001b[1m826/826\u001b[0m \u001b[32m━━━━━━━━━━━━━━━━━━━━\u001b[0m\u001b[37m\u001b[0m \u001b[1m2s\u001b[0m 2ms/step - loss: 0.2804 - mae: 0.3604 - val_loss: 0.3086 - val_mae: 0.3665\n",
            "Epoch 17/50\n",
            "\u001b[1m826/826\u001b[0m \u001b[32m━━━━━━━━━━━━━━━━━━━━\u001b[0m\u001b[37m\u001b[0m \u001b[1m2s\u001b[0m 2ms/step - loss: 0.2793 - mae: 0.3598 - val_loss: 0.3205 - val_mae: 0.4067\n",
            "Epoch 18/50\n",
            "\u001b[1m826/826\u001b[0m \u001b[32m━━━━━━━━━━━━━━━━━━━━\u001b[0m\u001b[37m\u001b[0m \u001b[1m2s\u001b[0m 2ms/step - loss: 0.2749 - mae: 0.3584 - val_loss: 0.2996 - val_mae: 0.3686\n",
            "Epoch 19/50\n",
            "\u001b[1m826/826\u001b[0m \u001b[32m━━━━━━━━━━━━━━━━━━━━\u001b[0m\u001b[37m\u001b[0m \u001b[1m2s\u001b[0m 2ms/step - loss: 0.2763 - mae: 0.3580 - val_loss: 0.3089 - val_mae: 0.3739\n",
            "Epoch 20/50\n",
            "\u001b[1m826/826\u001b[0m \u001b[32m━━━━━━━━━━━━━━━━━━━━\u001b[0m\u001b[37m\u001b[0m \u001b[1m3s\u001b[0m 3ms/step - loss: 0.2704 - mae: 0.3530 - val_loss: 0.2975 - val_mae: 0.3746\n",
            "Epoch 21/50\n",
            "\u001b[1m826/826\u001b[0m \u001b[32m━━━━━━━━━━━━━━━━━━━━\u001b[0m\u001b[37m\u001b[0m \u001b[1m2s\u001b[0m 3ms/step - loss: 0.2630 - mae: 0.3507 - val_loss: 0.3082 - val_mae: 0.3711\n",
            "Epoch 22/50\n",
            "\u001b[1m826/826\u001b[0m \u001b[32m━━━━━━━━━━━━━━━━━━━━\u001b[0m\u001b[37m\u001b[0m \u001b[1m2s\u001b[0m 2ms/step - loss: 0.2569 - mae: 0.3446 - val_loss: 0.2989 - val_mae: 0.3811\n",
            "Epoch 23/50\n",
            "\u001b[1m826/826\u001b[0m \u001b[32m━━━━━━━━━━━━━━━━━━━━\u001b[0m\u001b[37m\u001b[0m \u001b[1m2s\u001b[0m 2ms/step - loss: 0.2654 - mae: 0.3480 - val_loss: 0.3372 - val_mae: 0.4164\n",
            "Epoch 24/50\n",
            "\u001b[1m826/826\u001b[0m \u001b[32m━━━━━━━━━━━━━━━━━━━━\u001b[0m\u001b[37m\u001b[0m \u001b[1m2s\u001b[0m 2ms/step - loss: 0.2627 - mae: 0.3490 - val_loss: 0.2880 - val_mae: 0.3733\n",
            "Epoch 25/50\n",
            "\u001b[1m826/826\u001b[0m \u001b[32m━━━━━━━━━━━━━━━━━━━━\u001b[0m\u001b[37m\u001b[0m \u001b[1m2s\u001b[0m 2ms/step - loss: 0.2776 - mae: 0.3551 - val_loss: 0.3367 - val_mae: 0.4201\n",
            "Epoch 26/50\n",
            "\u001b[1m826/826\u001b[0m \u001b[32m━━━━━━━━━━━━━━━━━━━━\u001b[0m\u001b[37m\u001b[0m \u001b[1m4s\u001b[0m 4ms/step - loss: 0.2590 - mae: 0.3474 - val_loss: 0.2876 - val_mae: 0.3685\n",
            "Epoch 27/50\n",
            "\u001b[1m826/826\u001b[0m \u001b[32m━━━━━━━━━━━━━━━━━━━━\u001b[0m\u001b[37m\u001b[0m \u001b[1m2s\u001b[0m 3ms/step - loss: 0.2566 - mae: 0.3463 - val_loss: 0.2852 - val_mae: 0.3590\n",
            "Epoch 28/50\n",
            "\u001b[1m826/826\u001b[0m \u001b[32m━━━━━━━━━━━━━━━━━━━━\u001b[0m\u001b[37m\u001b[0m \u001b[1m2s\u001b[0m 2ms/step - loss: 0.2531 - mae: 0.3411 - val_loss: 0.2945 - val_mae: 0.3585\n",
            "Epoch 29/50\n",
            "\u001b[1m826/826\u001b[0m \u001b[32m━━━━━━━━━━━━━━━━━━━━\u001b[0m\u001b[37m\u001b[0m \u001b[1m2s\u001b[0m 2ms/step - loss: 0.2563 - mae: 0.3429 - val_loss: 0.2873 - val_mae: 0.3676\n",
            "Epoch 30/50\n",
            "\u001b[1m826/826\u001b[0m \u001b[32m━━━━━━━━━━━━━━━━━━━━\u001b[0m\u001b[37m\u001b[0m \u001b[1m2s\u001b[0m 2ms/step - loss: 0.2590 - mae: 0.3472 - val_loss: 0.2919 - val_mae: 0.3717\n",
            "Epoch 31/50\n",
            "\u001b[1m826/826\u001b[0m \u001b[32m━━━━━━━━━━━━━━━━━━━━\u001b[0m\u001b[37m\u001b[0m \u001b[1m2s\u001b[0m 3ms/step - loss: 0.2518 - mae: 0.3406 - val_loss: 0.2947 - val_mae: 0.3820\n",
            "Epoch 32/50\n",
            "\u001b[1m826/826\u001b[0m \u001b[32m━━━━━━━━━━━━━━━━━━━━\u001b[0m\u001b[37m\u001b[0m \u001b[1m3s\u001b[0m 3ms/step - loss: 0.2563 - mae: 0.3412 - val_loss: 0.2830 - val_mae: 0.3561\n",
            "Epoch 33/50\n",
            "\u001b[1m826/826\u001b[0m \u001b[32m━━━━━━━━━━━━━━━━━━━━\u001b[0m\u001b[37m\u001b[0m \u001b[1m2s\u001b[0m 2ms/step - loss: 0.2550 - mae: 0.3394 - val_loss: 0.2893 - val_mae: 0.3670\n",
            "Epoch 34/50\n",
            "\u001b[1m826/826\u001b[0m \u001b[32m━━━━━━━━━━━━━━━━━━━━\u001b[0m\u001b[37m\u001b[0m \u001b[1m2s\u001b[0m 2ms/step - loss: 0.2523 - mae: 0.3400 - val_loss: 0.2865 - val_mae: 0.3605\n",
            "Epoch 35/50\n",
            "\u001b[1m826/826\u001b[0m \u001b[32m━━━━━━━━━━━━━━━━━━━━\u001b[0m\u001b[37m\u001b[0m \u001b[1m2s\u001b[0m 2ms/step - loss: 0.2456 - mae: 0.3363 - val_loss: 0.2822 - val_mae: 0.3492\n",
            "Epoch 36/50\n",
            "\u001b[1m826/826\u001b[0m \u001b[32m━━━━━━━━━━━━━━━━━━━━\u001b[0m\u001b[37m\u001b[0m \u001b[1m2s\u001b[0m 2ms/step - loss: 0.2439 - mae: 0.3337 - val_loss: 0.3133 - val_mae: 0.3698\n",
            "Epoch 37/50\n",
            "\u001b[1m826/826\u001b[0m \u001b[32m━━━━━━━━━━━━━━━━━━━━\u001b[0m\u001b[37m\u001b[0m \u001b[1m2s\u001b[0m 3ms/step - loss: 0.2457 - mae: 0.3352 - val_loss: 0.2808 - val_mae: 0.3538\n",
            "Epoch 38/50\n",
            "\u001b[1m826/826\u001b[0m \u001b[32m━━━━━━━━━━━━━━━━━━━━\u001b[0m\u001b[37m\u001b[0m \u001b[1m2s\u001b[0m 3ms/step - loss: 0.2400 - mae: 0.3306 - val_loss: 0.2858 - val_mae: 0.3560\n",
            "Epoch 39/50\n",
            "\u001b[1m826/826\u001b[0m \u001b[32m━━━━━━━━━━━━━━━━━━━━\u001b[0m\u001b[37m\u001b[0m \u001b[1m2s\u001b[0m 2ms/step - loss: 0.2507 - mae: 0.3390 - val_loss: 0.2805 - val_mae: 0.3598\n",
            "Epoch 40/50\n",
            "\u001b[1m826/826\u001b[0m \u001b[32m━━━━━━━━━━━━━━━━━━━━\u001b[0m\u001b[37m\u001b[0m \u001b[1m2s\u001b[0m 2ms/step - loss: 0.2462 - mae: 0.3334 - val_loss: 0.2826 - val_mae: 0.3664\n",
            "Epoch 41/50\n",
            "\u001b[1m826/826\u001b[0m \u001b[32m━━━━━━━━━━━━━━━━━━━━\u001b[0m\u001b[37m\u001b[0m \u001b[1m2s\u001b[0m 2ms/step - loss: 0.2394 - mae: 0.3354 - val_loss: 0.2771 - val_mae: 0.3489\n",
            "Epoch 42/50\n",
            "\u001b[1m826/826\u001b[0m \u001b[32m━━━━━━━━━━━━━━━━━━━━\u001b[0m\u001b[37m\u001b[0m \u001b[1m3s\u001b[0m 3ms/step - loss: 0.2426 - mae: 0.3356 - val_loss: 0.2947 - val_mae: 0.3567\n",
            "Epoch 43/50\n",
            "\u001b[1m826/826\u001b[0m \u001b[32m━━━━━━━━━━━━━━━━━━━━\u001b[0m\u001b[37m\u001b[0m \u001b[1m3s\u001b[0m 4ms/step - loss: 0.2355 - mae: 0.3301 - val_loss: 0.2838 - val_mae: 0.3621\n",
            "Epoch 44/50\n",
            "\u001b[1m826/826\u001b[0m \u001b[32m━━━━━━━━━━━━━━━━━━━━\u001b[0m\u001b[37m\u001b[0m \u001b[1m2s\u001b[0m 2ms/step - loss: 0.2392 - mae: 0.3325 - val_loss: 0.2762 - val_mae: 0.3546\n",
            "Epoch 45/50\n",
            "\u001b[1m826/826\u001b[0m \u001b[32m━━━━━━━━━━━━━━━━━━━━\u001b[0m\u001b[37m\u001b[0m \u001b[1m2s\u001b[0m 2ms/step - loss: 0.2429 - mae: 0.3338 - val_loss: 0.2813 - val_mae: 0.3477\n",
            "Epoch 46/50\n",
            "\u001b[1m826/826\u001b[0m \u001b[32m━━━━━━━━━━━━━━━━━━━━\u001b[0m\u001b[37m\u001b[0m \u001b[1m2s\u001b[0m 2ms/step - loss: 0.2358 - mae: 0.3292 - val_loss: 0.2873 - val_mae: 0.3590\n",
            "Epoch 47/50\n",
            "\u001b[1m826/826\u001b[0m \u001b[32m━━━━━━━━━━━━━━━━━━━━\u001b[0m\u001b[37m\u001b[0m \u001b[1m2s\u001b[0m 2ms/step - loss: 0.2339 - mae: 0.3285 - val_loss: 0.2862 - val_mae: 0.3542\n",
            "Epoch 48/50\n",
            "\u001b[1m826/826\u001b[0m \u001b[32m━━━━━━━━━━━━━━━━━━━━\u001b[0m\u001b[37m\u001b[0m \u001b[1m2s\u001b[0m 2ms/step - loss: 0.2320 - mae: 0.3258 - val_loss: 0.2757 - val_mae: 0.3528\n",
            "Epoch 49/50\n",
            "\u001b[1m826/826\u001b[0m \u001b[32m━━━━━━━━━━━━━━━━━━━━\u001b[0m\u001b[37m\u001b[0m \u001b[1m3s\u001b[0m 4ms/step - loss: 0.2273 - mae: 0.3239 - val_loss: 0.2845 - val_mae: 0.3680\n",
            "Epoch 50/50\n",
            "\u001b[1m826/826\u001b[0m \u001b[32m━━━━━━━━━━━━━━━━━━━━\u001b[0m\u001b[37m\u001b[0m \u001b[1m2s\u001b[0m 2ms/step - loss: 0.2280 - mae: 0.3257 - val_loss: 0.2731 - val_mae: 0.3490\n"
          ]
        }
      ]
    },
    {
      "cell_type": "markdown",
      "source": [
        "# 🔹 3. Avaliar o modelo"
      ],
      "metadata": {
        "id": "AM4A6SS_oNUg"
      }
    },
    {
      "cell_type": "code",
      "source": [
        "loss, mae = model.evaluate(X_test, y_test)\n",
        "print(f\"\\n✅ MAE (Keras): {mae:.4f}\")\n",
        "\n",
        "# Plotar gráfico de perda\n",
        "plt.figure(figsize=(8,4))\n",
        "plt.plot(history.history['loss'], label='Treino')\n",
        "plt.plot(history.history['val_loss'], label='Validação')\n",
        "plt.title('Evolução da perda (MSE) - Rede Neural')\n",
        "plt.legend()\n",
        "plt.show()"
      ],
      "metadata": {
        "colab": {
          "base_uri": "https://localhost:8080/",
          "height": 443
        },
        "id": "zHWsa2wgoPEA",
        "outputId": "0fd862d2-f641-4514-edf4-dc15a55e3c33"
      },
      "execution_count": 4,
      "outputs": [
        {
          "output_type": "stream",
          "name": "stdout",
          "text": [
            "\u001b[1m129/129\u001b[0m \u001b[32m━━━━━━━━━━━━━━━━━━━━\u001b[0m\u001b[37m\u001b[0m \u001b[1m0s\u001b[0m 2ms/step - loss: 0.2644 - mae: 0.3467\n",
            "\n",
            "✅ MAE (Keras): 0.3481\n"
          ]
        },
        {
          "output_type": "display_data",
          "data": {
            "text/plain": [
              "<Figure size 800x400 with 1 Axes>"
            ],
            "image/png": "[encoded data removed]"
          },
          "metadata": {}
        }
      ]
    },
    {
      "cell_type": "markdown",
      "source": [
        "# 🔹 4. Comparar com RandomForestRegressor"
      ],
      "metadata": {
        "id": "fTj73JvxoRWH"
      }
    },
    {
      "cell_type": "code",
      "source": [
        "rf = RandomForestRegressor(random_state=42)\n",
        "rf.fit(X_train, y_train)\n",
        "y_pred = rf.predict(X_test)\n",
        "\n",
        "mae_rf = mean_absolute_error(y_test, y_pred)\n",
        "from math import sqrt\n",
        "\n",
        "mse_rf = mean_squared_error(y_test, y_pred)\n",
        "rmse_rf = sqrt(mse_rf)\n",
        "\n",
        "print(f\"✅ MAE (RandomForest): {mae_rf:.4f}\")\n",
        "print(f\"✅ RMSE (RandomForest): {rmse_rf:.4f}\")"
      ],
      "metadata": {
        "colab": {
          "base_uri": "https://localhost:8080/"
        },
        "id": "3iKdDkVNoSzn",
        "outputId": "c28c6c52-d5cc-488a-bf38-fadc3df02902"
      },
      "execution_count": 14,
      "outputs": [
        {
          "output_type": "stream",
          "name": "stdout",
          "text": [
            "✅ MAE (RandomForest): 0.3276\n",
            "✅ RMSE (RandomForest): 0.5055\n"
          ]
        }
      ]
    },
    {
      "cell_type": "markdown",
      "source": [
        "# 🔹 5. Conclusão"
      ],
      "metadata": {
        "id": "eIRM9h2doU0o"
      }
    },
    {
      "cell_type": "code",
      "source": [
        "if mae < mae_rf:\n",
        "    print(\"\\n🔸 O modelo Keras teve menor erro médio absoluto (melhor desempenho).\")\n",
        "elif mae > mae_rf:\n",
        "    print(\"\\n🔸 O modelo RandomForest teve menor erro médio absoluto (melhor desempenho).\")\n",
        "else:\n",
        "    print(\"\\n🔸 Ambos os modelos tiveram desempenho semelhante.\")"
      ],
      "metadata": {
        "colab": {
          "base_uri": "https://localhost:8080/"
        },
        "id": "ihromsKdoWGY",
        "outputId": "9845377f-6905-48d9-ae85-9ad32d05a2bb"
      },
      "execution_count": 16,
      "outputs": [
        {
          "output_type": "stream",
          "name": "stdout",
          "text": [
            "\n",
            "🔸 O modelo RandomForest teve menor erro médio absoluto (melhor desempenho).\n"
          ]
        }
      ]
    }
  ]
}